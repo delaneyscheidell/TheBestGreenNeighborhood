{
 "cells": [
  {
   "cell_type": "markdown",
   "metadata": {},
   "source": [
    "# The Best Green Neighborhood 💚 \n",
    "## Introduction\n",
    "+ Three Metrics Used\n",
    "1. Number of Trees Per Neighborhood (Jerek)\n",
    "2. Number of Gardens Per Neighborhood (Danielle)\n",
    "3. Waste Recovery in Neighborhoods (Delaney) \n",
    "\n",
    "\n",
    "\n"
   ]
  },
  {
   "cell_type": "markdown",
   "metadata": {},
   "source": [
    "# Trees 🌴 🌳"
   ]
  },
  {
   "cell_type": "code",
   "execution_count": 2,
   "metadata": {},
   "outputs": [],
   "source": [
    "import pandas as pd\n",
    "\n",
    "trees = pd.read_csv('trees-pittsburgh.csv', low_memory=False)\n"
   ]
  },
  {
   "cell_type": "code",
   "execution_count": 3,
   "metadata": {},
   "outputs": [
    {
     "name": "stdout",
     "output_type": "stream",
     "text": [
      "              neighborhood\n",
      "0           Homewood North\n",
      "1                  Oakwood\n",
      "2         South Side Flats\n",
      "3           East Allegheny\n",
      "4            Highland Park\n",
      "...                    ...\n",
      "21126  Squirrel Hill South\n",
      "21127  Squirrel Hill South\n",
      "21128  Squirrel Hill South\n",
      "21129  Squirrel Hill North\n",
      "21130                  NaN\n",
      "\n",
      "[21131 rows x 1 columns]\n"
     ]
    }
   ],
   "source": [
    "trees = pd.read_csv(\"trees-pittsburgh.csv\", sep=\",\", usecols=[\"neighborhood\"])\n",
    "print(trees)"
   ]
  },
  {
   "cell_type": "code",
   "execution_count": 9,
   "metadata": {},
   "outputs": [
    {
     "name": "stdout",
     "output_type": "stream",
     "text": [
      "Squirrel Hill South    5073\n",
      "Highland Park          2941\n",
      "Squirrel Hill North    2083\n",
      "South Side Flats       1693\n",
      "Shadyside              1558\n",
      "                       ... \n",
      "Arlington Heights         5\n",
      "Esplen                    3\n",
      "South Shore               2\n",
      "Glen Hazel                2\n",
      "Hays                      1\n",
      "Name: neighborhood, Length: 90, dtype: int64\n"
     ]
    }
   ],
   "source": [
    "neighborhood_counts = trees[\"neighborhood\"].value_counts()\n",
    "\n",
    "print(neighborhood_counts)"
   ]
  },
  {
   "cell_type": "code",
   "execution_count": 13,
   "metadata": {},
   "outputs": [
    {
     "data": {
      "image/png": "[encoded data removed]",
      "text/plain": [
       "<Figure size 432x288 with 1 Axes>"
      ]
     },
     "metadata": {
      "needs_background": "light"
     },
     "output_type": "display_data"
    }
   ],
   "source": [
    "import matplotlib.pyplot as plt\n",
    "\n",
    "neighborhood_counts_sorted = neighborhood_counts.sort_values(ascending=False)\n",
    "\n",
    "top_10_neighborhoods = neighborhood_counts_sorted.head(10)\n",
    "\n",
    "top_10_neighborhoods.plot(kind = \"bar\")\n",
    "plt.title(\"Number of Trees in Pittsburgh Neighborhoods\")\n",
    "plt.xlabel(\"Neighborhood\")\n",
    "plt.ylabel(\"Count\")\n",
    "plt.show()"
   ]
  },
  {
   "cell_type": "markdown",
   "metadata": {},
   "source": [
    "### Neighborhoods top 10 and their respective Zip codes\n",
    "1. Squirel Hill South - 15217, 15213, 15232, and 15289\n",
    "2. Highland Park - 15206\n",
    "3. Squirrel Hill North - 15217 and 15232\n",
    "4. South Side Flats - 15203\n",
    "5. Shadyside - 5206, 15213, and 15232\n",
    "6. Bloomfield - 15224\n",
    "7. East Liberty - 15206\n",
    "8. Point Breeze - 15208\n",
    "9. Perry North - 15212 and 15214\n",
    "10. Central Buisiness District -15219 "
   ]
  },
  {
   "cell_type": "markdown",
   "metadata": {},
   "source": [
    "### Conclusion \n",
    "- In conclusion, Squirrel Hill South has the most number of trees, and by this metric is the most green neighborhood. "
   ]
  },
  {
   "cell_type": "markdown",
   "metadata": {},
   "source": [
    "# Gardens 💐 🍄"
   ]
  },
  {
   "cell_type": "code",
   "execution_count": 4,
   "metadata": {},
   "outputs": [
    {
     "name": "stdout",
     "output_type": "stream",
     "text": [
      "          city  zip_code\n",
      "1   Pittsburgh   15207.0\n",
      "2   Pittsburgh   15201.0\n",
      "3   Pittsburgh   15207.0\n",
      "4   Pittsburgh   15206.0\n",
      "5   Pittsburgh   15201.0\n",
      "..         ...       ...\n",
      "73  Pittsburgh       NaN\n",
      "76  Pittsburgh   15201.0\n",
      "77  Pittsburgh   15219.0\n",
      "78  Pittsburgh   15206.0\n",
      "79  Pittsburgh   15219.0\n",
      "\n",
      "[64 rows x 2 columns]\n"
     ]
    }
   ],
   "source": [
    "import pandas as pd\n",
    "\n",
    "# import data set, separate it by commas, only use the columns city and zip code\n",
    "garden = pd.read_csv(\"pittsburghgardens.csv\", sep=\",\", usecols=[\"city\", \"zip_code\"])\n",
    "\n",
    "# create a dataframe from the imported set, only show waste recovery locations in Pittsburgh\n",
    "pitt_df = garden[garden[\"city\"] == \"Pittsburgh\"]\n",
    "\n",
    "# display the dataframe\n",
    "print(pitt_df)"
   ]
  },
  {
   "cell_type": "code",
   "execution_count": 5,
   "metadata": {},
   "outputs": [
    {
     "name": "stdout",
     "output_type": "stream",
     "text": [
      "15206.0    13\n",
      "15219.0     7\n",
      "15213.0     5\n",
      "15221.0     5\n",
      "15201.0     5\n",
      "15208.0     4\n",
      "15207.0     3\n",
      "15224.0     3\n",
      "15210.0     2\n",
      "15212.0     2\n",
      "15217.0     2\n",
      "15220.0     2\n",
      "15238.0     2\n",
      "15203.0     1\n",
      "15218.0     1\n",
      "15237.0     1\n",
      "15260.0     1\n",
      "15204.0     1\n",
      "15214.0     1\n",
      "15223.0     1\n",
      "Name: zip_code, dtype: int64\n"
     ]
    }
   ],
   "source": [
    "# counts the occurence of each Pittsburgh neighborhood \n",
    "zip_counts = pitt_df[\"zip_code\"].value_counts()\n",
    "\n",
    "# display the counts\n",
    "print(zip_counts)"
   ]
  },
  {
   "cell_type": "code",
   "execution_count": 6,
   "metadata": {},
   "outputs": [
    {
     "data": {
      "image/png": "[encoded data removed]",
      "text/plain": [
       "<Figure size 432x288 with 1 Axes>"
      ]
     },
     "metadata": {
      "needs_background": "light"
     },
     "output_type": "display_data"
    }
   ],
   "source": [
    "# import matlib\n",
    "import matplotlib.pyplot as plt\n",
    "\n",
    "# specifying a bar graph and then adding attributes and titles to it.\n",
    "zip_counts.plot(kind = \"bar\")\n",
    "plt.title(\"Number of gardens in Pittsburgh Neighborhoods\")\n",
    "plt.xlabel(\"zip code\")\n",
    "plt.ylabel(\"Count\")\n",
    "plt.show()"
   ]
  },
  {
   "cell_type": "markdown",
   "metadata": {},
   "source": [
    "# zip code key from most gardens to least\n",
    "1. East Liberty, Morningside & East End \n",
    "2. Uptown, Herron Hill & Schenly Heights\n",
    "3. Oakland & Bellefield\n",
    "4. Brushton, Homewood & East Hills\n",
    "5. Lawrenceville & Stanton Heights\n",
    "6. Homewood, Brushton, East End & Point Breeze\n",
    "7. Hazelwood, Greenfield, Glenwood, Glen Hazel, Hays & Lincoln Pl\n",
    "8. Bloomfield & Garfield \n",
    "9. Knoxville, Beltzhoover, Carrick & Arlington\n",
    "10. Northside\n",
    "11. Squirrel Hill, Greenfield & Browns Hill\n",
    "12. West End, Wabash, Westwood & Banksville\n",
    "13. Borough of Blawnox & Fox Chapel, Townships of O’Hara, Indiana, Harmar & West Deer\n",
    "14. Southside\n",
    "15- Regent Square & Swisshelm Park\n",
    "16- Borough of Franklin Park, Townships of Ross & McCandless\n",
    "17- University of Pittsburgh\n",
    "18- Sheraden, Elliott, Esplen & Broadhead\n",
    "19- Northside\n",
    "20- Borough of Etna and Township of Shaler"
   ]
  },
  {
   "cell_type": "markdown",
   "metadata": {},
   "source": [
    "### Conclusion\n",
    "Zip code 15206 (East Liberty, Morningside & East End) is the best neighborhood for gardens because it has the most."
   ]
  },
  {
   "cell_type": "markdown",
   "metadata": {},
   "source": [
    "# Waste Recovery 🗑 🦝"
   ]
  },
  {
   "cell_type": "code",
   "execution_count": 10,
   "metadata": {},
   "outputs": [
    {
     "name": "stdout",
     "output_type": "stream",
     "text": [
      "          city               neighborhood\n",
      "2   Pittsburgh               East Liberty\n",
      "4   Pittsburgh        Lower Lawrenceville\n",
      "5   Pittsburgh           South Side Flats\n",
      "12  Pittsburgh           South Side Flats\n",
      "13  Pittsburgh  Central Business District\n",
      "14  Pittsburgh         Point Breeze North\n",
      "15  Pittsburgh         Point Breeze North\n",
      "17  Pittsburgh           South Side Flats\n",
      "19  Pittsburgh                 Greenfield\n",
      "20  Pittsburgh                  Shadyside\n",
      "21  Pittsburgh                  Shadyside\n",
      "22  Pittsburgh           South Side Flats\n",
      "23  Pittsburgh        Squirrel Hill South\n",
      "24  Pittsburgh   Lincoln-Lemington-Belmar\n",
      "25  Pittsburgh             East Allegheny\n",
      "26  Pittsburgh                  Shadyside\n",
      "27  Pittsburgh           South Side Flats\n",
      "28  Pittsburgh        Upper Lawrenceville\n",
      "30  Pittsburgh               East Liberty\n",
      "33  Pittsburgh                    Chateau\n",
      "36  Pittsburgh         Point Breeze North\n",
      "37  Pittsburgh              Homewood West\n",
      "38  Pittsburgh                Beltzhoover\n",
      "39  Pittsburgh                    Elliott\n",
      "40  Pittsburgh             Strip District\n",
      "41  Pittsburgh                  Hazelwood\n",
      "42  Pittsburgh             Strip District\n",
      "43  Pittsburgh          Central Northside\n",
      "44  Pittsburgh           South Side Flats\n",
      "45  Pittsburgh               East Liberty\n",
      "47  Pittsburgh                    Chateau\n",
      "48  Pittsburgh                  Shadyside\n"
     ]
    }
   ],
   "source": [
    "# import pandas\n",
    "import pandas as pd\n",
    "\n",
    "# import data set, separate it by commas, only use the columns city and neighborhood\n",
    "waste = pd.read_csv(\"wasterecovery.csv\", sep=\",\", usecols=[\"city\", \"neighborhood\"])\n",
    "\n",
    "# create a dataframe from the imported set, only show waste recovery locations in Pittsburgh\n",
    "pitt_df = waste[waste[\"city\"] == \"Pittsburgh\"]\n",
    "\n",
    "# display the dataframe\n",
    "print(pitt_df)"
   ]
  },
  {
   "cell_type": "code",
   "execution_count": 11,
   "metadata": {},
   "outputs": [
    {
     "name": "stdout",
     "output_type": "stream",
     "text": [
      "South Side Flats             6\n",
      "Shadyside                    4\n",
      "East Liberty                 3\n",
      "Point Breeze North           3\n",
      "Chateau                      2\n",
      "Strip District               2\n",
      "Hazelwood                    1\n",
      "Elliott                      1\n",
      "Beltzhoover                  1\n",
      "Homewood West                1\n",
      "East Allegheny               1\n",
      "Upper Lawrenceville          1\n",
      "Lower Lawrenceville          1\n",
      "Lincoln-Lemington-Belmar     1\n",
      "Squirrel Hill South          1\n",
      "Greenfield                   1\n",
      "Central Business District    1\n",
      "Central Northside            1\n",
      "Name: neighborhood, dtype: int64\n"
     ]
    }
   ],
   "source": [
    "# counts the occurence of each Pittsburgh neighborhood \n",
    "neighborhood_counts = pitt_df[\"neighborhood\"].value_counts()\n",
    "\n",
    "# display the counts\n",
    "print(neighborhood_counts)"
   ]
  },
  {
   "cell_type": "code",
   "execution_count": 12,
   "metadata": {},
   "outputs": [
    {
     "data": {
      "image/png": "[encoded data removed]",
      "text/plain": [
       "<Figure size 432x288 with 1 Axes>"
      ]
     },
     "metadata": {
      "needs_background": "light"
     },
     "output_type": "display_data"
    }
   ],
   "source": [
    "# import matlib\n",
    "import matplotlib.pyplot as plt\n",
    "\n",
    "# specifying a bar graph and then adding attributes and titles to it.\n",
    "neighborhood_counts.plot(kind = \"bar\")\n",
    "plt.title(\"Number of Waste Recovery Locations in Pittsburgh Neighborhoods\")\n",
    "plt.xlabel(\"Neighborhood\")\n",
    "plt.ylabel(\"Count\")\n",
    "plt.show()"
   ]
  },
  {
   "cell_type": "markdown",
   "metadata": {},
   "source": [
    "### Conclusion: \n",
    "\n",
    "The South Side Flats is the best neighborhood in Pittsburgh for waste recovery locations because it has the most."
   ]
  },
  {
   "cell_type": "markdown",
   "metadata": {},
   "source": [
    "# Project Conclusion\n",
    "- After careful consideration and extensive analysis, our group has come to the conclusion that the neighborhood \"Shadyside\" is the best \"green\" neighborhood in Pittsburgh. It is top 2 in waste recovery, first in number of gardens, and top 5 in number of trees. "
   ]
  },
  {
   "cell_type": "code",
   "execution_count": null,
   "metadata": {},
   "outputs": [],
   "source": []
  }
 ],
 "metadata": {
  "kernelspec": {
   "display_name": "Python 3",
   "language": "python",
   "name": "python3"
  },
  "language_info": {
   "codemirror_mode": {
    "name": "ipython",
    "version": 3
   },
   "file_extension": ".py",
   "mimetype": "text/x-python",
   "name": "python",
   "nbconvert_exporter": "python",
   "pygments_lexer": "ipython3",
   "version": "3.8.3"
  }
 },
 "nbformat": 4,
 "nbformat_minor": 4
}
