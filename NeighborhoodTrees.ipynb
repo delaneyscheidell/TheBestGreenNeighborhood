{
 "cells": [
  {
   "cell_type": "markdown",
   "metadata": {},
   "source": [
    "## The Best Green Neighborhood in Pittsburgh🌍♻️"
   ]
  },
  {
   "cell_type": "markdown",
   "metadata": {},
   "source": [
    "### Delaney Scheidell's Section on Waste Recovery🌱🪴🌳🌲🌿 "
   ]
  },
  {
   "cell_type": "markdown",
   "metadata": {},
   "source": [
    "## Introduction\n",
    "    We have decieded to find the best green neighborhood in Pittsburgh. We are basing this off of the amount of gardens and trees as well as waster recovery locations in the neighborhood. I will be analyzing the waste recovery locations."
   ]
  },
  {
   "cell_type": "code",
   "execution_count": 36,
   "metadata": {},
   "outputs": [
    {
     "name": "stdout",
     "output_type": "stream",
     "text": [
      "          city               neighborhood\n",
      "2   Pittsburgh               East Liberty\n",
      "4   Pittsburgh        Lower Lawrenceville\n",
      "5   Pittsburgh           South Side Flats\n",
      "12  Pittsburgh           South Side Flats\n",
      "13  Pittsburgh  Central Business District\n",
      "14  Pittsburgh         Point Breeze North\n",
      "15  Pittsburgh         Point Breeze North\n",
      "17  Pittsburgh           South Side Flats\n",
      "19  Pittsburgh                 Greenfield\n",
      "20  Pittsburgh                  Shadyside\n",
      "21  Pittsburgh                  Shadyside\n",
      "22  Pittsburgh           South Side Flats\n",
      "23  Pittsburgh        Squirrel Hill South\n",
      "24  Pittsburgh   Lincoln-Lemington-Belmar\n",
      "25  Pittsburgh             East Allegheny\n",
      "26  Pittsburgh                  Shadyside\n",
      "27  Pittsburgh           South Side Flats\n",
      "28  Pittsburgh        Upper Lawrenceville\n",
      "30  Pittsburgh               East Liberty\n",
      "33  Pittsburgh                    Chateau\n",
      "36  Pittsburgh         Point Breeze North\n",
      "37  Pittsburgh              Homewood West\n",
      "38  Pittsburgh                Beltzhoover\n",
      "39  Pittsburgh                    Elliott\n",
      "40  Pittsburgh             Strip District\n",
      "41  Pittsburgh                  Hazelwood\n",
      "42  Pittsburgh             Strip District\n",
      "43  Pittsburgh          Central Northside\n",
      "44  Pittsburgh           South Side Flats\n",
      "45  Pittsburgh               East Liberty\n",
      "47  Pittsburgh                    Chateau\n",
      "48  Pittsburgh                  Shadyside\n"
     ]
    }
   ],
   "source": [
    "# import pandas\n",
    "import pandas as pd\n",
    "\n",
    "# import data set, separate it by commas, only use the columns city and neighborhood\n",
    "waste = pd.read_csv(\"Neighborhood/WasteRecovery.tsv\", sep=\",\", usecols=[\"city\", \"neighborhood\"])\n",
    "\n",
    "# create a dataframe from the imported set, only show waste recovery locations in Pittsburgh\n",
    "pitt_df = waste[waste[\"city\"] == \"Pittsburgh\"]\n",
    "\n",
    "# display the dataframe\n",
    "print(pitt_df)"
   ]
  },
  {
   "cell_type": "code",
   "execution_count": 34,
   "metadata": {},
   "outputs": [
    {
     "name": "stdout",
     "output_type": "stream",
     "text": [
      "South Side Flats             6\n",
      "Shadyside                    4\n",
      "East Liberty                 3\n",
      "Point Breeze North           3\n",
      "Chateau                      2\n",
      "Strip District               2\n",
      "Hazelwood                    1\n",
      "Elliott                      1\n",
      "Beltzhoover                  1\n",
      "Homewood West                1\n",
      "East Allegheny               1\n",
      "Upper Lawrenceville          1\n",
      "Lower Lawrenceville          1\n",
      "Lincoln-Lemington-Belmar     1\n",
      "Squirrel Hill South          1\n",
      "Greenfield                   1\n",
      "Central Business District    1\n",
      "Central Northside            1\n",
      "Name: neighborhood, dtype: int64\n"
     ]
    }
   ],
   "source": [
    "# counts the occurence of each Pittsburgh neighborhood \n",
    "neighborhood_counts = pitt_df[\"neighborhood\"].value_counts()\n",
    "\n",
    "# display the counts\n",
    "print(neighborhood_counts)"
   ]
  },
  {
   "cell_type": "code",
   "execution_count": 38,
   "metadata": {},
   "outputs": [
    {
     "data": {
      "image/png": "[encoded data removed]",
      "text/plain": [
       "<Figure size 432x288 with 1 Axes>"
      ]
     },
     "metadata": {
      "needs_background": "light"
     },
     "output_type": "display_data"
    }
   ],
   "source": [
    "# import matlib\n",
    "import matplotlib.pyplot as plt\n",
    "\n",
    "# specifying a bar graph and then adding attributes and titles to it.\n",
    "neighborhood_counts.plot(kind = \"bar\")\n",
    "plt.title(\"Number of Waste Recovery Locations in Pittsburgh Neighborhoods\")\n",
    "plt.xlabel(\"Neighborhood\")\n",
    "plt.ylabel(\"Count\")\n",
    "plt.show()"
   ]
  },
  {
   "cell_type": "markdown",
   "metadata": {},
   "source": [
    "# Conclusion: \n",
    "\n",
    "The South Side Flats is the best neighborhood in Pittsburgh for waste recovery locations because it has the most."
   ]
  },
  {
   "cell_type": "code",
   "execution_count": null,
   "metadata": {},
   "outputs": [],
   "source": []
  }
 ],
 "metadata": {
  "kernelspec": {
   "display_name": "Python 3",
   "language": "python",
   "name": "python3"
  },
  "language_info": {
   "codemirror_mode": {
    "name": "ipython",
    "version": 3
   },
   "file_extension": ".py",
   "mimetype": "text/x-python",
   "name": "python",
   "nbconvert_exporter": "python",
   "pygments_lexer": "ipython3",
   "version": "3.8.3"
  }
 },
 "nbformat": 4,
 "nbformat_minor": 4
}
