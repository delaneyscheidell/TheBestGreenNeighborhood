{
 "cells": [
  {
   "cell_type": "markdown",
   "metadata": {},
   "source": [
    "## Introduction \n",
    "We have decieded to find the best green neighborhood in Pittsburgh. We are basing this off of the amount of gardens and trees as well as waster recovery locations in the neighborhood. I will be analyzing garden locations."
   ]
  },
  {
   "cell_type": "code",
   "execution_count": 10,
   "metadata": {},
   "outputs": [
    {
     "name": "stdout",
     "output_type": "stream",
     "text": [
      "          city  zip_code\n",
      "1   Pittsburgh   15207.0\n",
      "2   Pittsburgh   15201.0\n",
      "3   Pittsburgh   15207.0\n",
      "4   Pittsburgh   15206.0\n",
      "5   Pittsburgh   15201.0\n",
      "..         ...       ...\n",
      "73  Pittsburgh       NaN\n",
      "76  Pittsburgh   15201.0\n",
      "77  Pittsburgh   15219.0\n",
      "78  Pittsburgh   15206.0\n",
      "79  Pittsburgh   15219.0\n",
      "\n",
      "[64 rows x 2 columns]\n"
     ]
    }
   ],
   "source": [
    "import pandas as pd\n",
    "\n",
    "# import data set, separate it by commas, only use the columns city and zip code\n",
    "garden = pd.read_csv(\"pittsburghgardens.csv\", sep=\",\", usecols=[\"city\", \"zip_code\"])\n",
    "\n",
    "# create a dataframe from the imported set, only show waste recovery locations in Pittsburgh\n",
    "pitt_df = garden[garden[\"city\"] == \"Pittsburgh\"]\n",
    "\n",
    "# display the dataframe\n",
    "print(pitt_df)"
   ]
  },
  {
   "cell_type": "code",
   "execution_count": 12,
   "metadata": {},
   "outputs": [
    {
     "name": "stdout",
     "output_type": "stream",
     "text": [
      "15206.0    13\n",
      "15219.0     7\n",
      "15213.0     5\n",
      "15221.0     5\n",
      "15201.0     5\n",
      "15208.0     4\n",
      "15207.0     3\n",
      "15224.0     3\n",
      "15210.0     2\n",
      "15212.0     2\n",
      "15217.0     2\n",
      "15220.0     2\n",
      "15238.0     2\n",
      "15203.0     1\n",
      "15218.0     1\n",
      "15237.0     1\n",
      "15260.0     1\n",
      "15204.0     1\n",
      "15214.0     1\n",
      "15223.0     1\n",
      "Name: zip_code, dtype: int64\n"
     ]
    }
   ],
   "source": [
    "# counts the occurence of each Pittsburgh neighborhood \n",
    "zip_counts = pitt_df[\"zip_code\"].value_counts()\n",
    "\n",
    "# display the counts\n",
    "print(zip_counts)"
   ]
  },
  {
   "cell_type": "code",
   "execution_count": 13,
   "metadata": {},
   "outputs": [
    {
     "data": {
      "image/png": "[encoded data removed]",
      "text/plain": [
       "<Figure size 432x288 with 1 Axes>"
      ]
     },
     "metadata": {
      "needs_background": "light"
     },
     "output_type": "display_data"
    }
   ],
   "source": [
    "# import matlib\n",
    "import matplotlib.pyplot as plt\n",
    "\n",
    "# specifying a bar graph and then adding attributes and titles to it.\n",
    "zip_counts.plot(kind = \"bar\")\n",
    "plt.title(\"Number of gardens in Pittsburgh Neighborhoods\")\n",
    "plt.xlabel(\"zip code\")\n",
    "plt.ylabel(\"Count\")\n",
    "plt.show()"
   ]
  },
  {
   "cell_type": "markdown",
   "metadata": {},
   "source": [
    "## Conclusion\n",
    "Zip code 15206 (East Liberty, Morningside & East End) is the best neighborhood for gardens because it has the most."
   ]
  },
  {
   "cell_type": "code",
   "execution_count": null,
   "metadata": {},
   "outputs": [],
   "source": []
  }
 ],
 "metadata": {
  "kernelspec": {
   "display_name": "Python 3",
   "language": "python",
   "name": "python3"
  },
  "language_info": {
   "codemirror_mode": {
    "name": "ipython",
    "version": 3
   },
   "file_extension": ".py",
   "mimetype": "text/x-python",
   "name": "python",
   "nbconvert_exporter": "python",
   "pygments_lexer": "ipython3",
   "version": "3.8.3"
  }
 },
 "nbformat": 4,
 "nbformat_minor": 4
}
