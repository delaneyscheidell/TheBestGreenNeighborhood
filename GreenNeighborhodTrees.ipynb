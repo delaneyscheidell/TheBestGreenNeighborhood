{
 "cells": [
  {
   "cell_type": "markdown",
   "metadata": {},
   "source": [
    "# Introduction\n",
    "\n",
    "- For this project we have chosen to decide the best \"green neighborhood\" in Pittsburgh. In order to do this we are looking at a few metrics, such as the number of gardens, number of trees, and the waste recovery in all the neighborhoods. I will be analyzing the number of trees in each neighborhood. "
   ]
  },
  {
   "cell_type": "code",
   "execution_count": 2,
   "metadata": {},
   "outputs": [],
   "source": [
    "import pandas as pd\n",
    "\n",
    "trees = pd.read_csv('trees-pittsburgh.csv', low_memory=False)\n"
   ]
  },
  {
   "cell_type": "code",
   "execution_count": 7,
   "metadata": {},
   "outputs": [
    {
     "name": "stdout",
     "output_type": "stream",
     "text": [
      "              neighborhood\n",
      "0           Homewood North\n",
      "1                  Oakwood\n",
      "2         South Side Flats\n",
      "3           East Allegheny\n",
      "4            Highland Park\n",
      "...                    ...\n",
      "45704   Point Breeze North\n",
      "45705  Squirrel Hill North\n",
      "45706  Squirrel Hill North\n",
      "45707  Squirrel Hill North\n",
      "45708  Squirrel Hill North\n",
      "\n",
      "[45709 rows x 1 columns]\n"
     ]
    }
   ],
   "source": [
    "trees = pd.read_csv(\"trees-pittsburgh.csv\", sep=\",\", usecols=[\"neighborhood\"])\n",
    "print(trees)"
   ]
  },
  {
   "cell_type": "code",
   "execution_count": 9,
   "metadata": {},
   "outputs": [
    {
     "name": "stdout",
     "output_type": "stream",
     "text": [
      "Squirrel Hill South    5073\n",
      "Highland Park          2941\n",
      "Squirrel Hill North    2083\n",
      "South Side Flats       1693\n",
      "Shadyside              1558\n",
      "                       ... \n",
      "Arlington Heights         5\n",
      "Esplen                    3\n",
      "South Shore               2\n",
      "Glen Hazel                2\n",
      "Hays                      1\n",
      "Name: neighborhood, Length: 90, dtype: int64\n"
     ]
    }
   ],
   "source": [
    "neighborhood_counts = trees[\"neighborhood\"].value_counts()\n",
    "\n",
    "print(neighborhood_counts)"
   ]
  },
  {
   "cell_type": "code",
   "execution_count": 13,
   "metadata": {},
   "outputs": [
    {
     "data": {
      "image/png": "[encoded data removed]",
      "text/plain": [
       "<Figure size 432x288 with 1 Axes>"
      ]
     },
     "metadata": {
      "needs_background": "light"
     },
     "output_type": "display_data"
    }
   ],
   "source": [
    "import matplotlib.pyplot as plt\n",
    "\n",
    "neighborhood_counts_sorted = neighborhood_counts.sort_values(ascending=False)\n",
    "\n",
    "top_10_neighborhoods = neighborhood_counts_sorted.head(10)\n",
    "\n",
    "top_10_neighborhoods.plot(kind = \"bar\")\n",
    "plt.title(\"Number of Trees in Pittsburgh Neighborhoods\")\n",
    "plt.xlabel(\"Neighborhood\")\n",
    "plt.ylabel(\"Count\")\n",
    "plt.show()"
   ]
  },
  {
   "cell_type": "markdown",
   "metadata": {},
   "source": [
    "# Conclusion \n",
    "- In conclusion, Squirrel Hill South has the most number of trees, and by this metric is the most green neighborhood. "
   ]
  },
  {
   "cell_type": "code",
   "execution_count": null,
   "metadata": {},
   "outputs": [],
   "source": []
  }
 ],
 "metadata": {
  "kernelspec": {
   "display_name": "Python 3",
   "language": "python",
   "name": "python3"
  },
  "language_info": {
   "codemirror_mode": {
    "name": "ipython",
    "version": 3
   },
   "file_extension": ".py",
   "mimetype": "text/x-python",
   "name": "python",
   "nbconvert_exporter": "python",
   "pygments_lexer": "ipython3",
   "version": "3.8.3"
  }
 },
 "nbformat": 4,
 "nbformat_minor": 4
}
